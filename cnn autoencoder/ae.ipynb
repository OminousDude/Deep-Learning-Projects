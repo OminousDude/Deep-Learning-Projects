{
 "cells": [
  {
   "cell_type": "code",
   "execution_count": 14,
   "metadata": {},
   "outputs": [
    {
     "data": {
      "text/plain": [
       "<torch._C.Generator at 0x7f7dc4583ab0>"
      ]
     },
     "execution_count": 14,
     "metadata": {},
     "output_type": "execute_result"
    }
   ],
   "source": [
    "from argparse import ArgumentParser\n",
    "\n",
    "import pytorch_lightning as pl\n",
    "import torch\n",
    "import torch.nn as nn\n",
    "import torch.nn.functional as F\n",
    "import torchvision.transforms as transforms\n",
    "import torchvision.utils as vutils\n",
    "from pytorch_lightning import Trainer, loggers\n",
    "from torch.optim import Adam\n",
    "from torch.utils.data import DataLoader, Subset\n",
    "from torchvision.datasets import ImageFolder\n",
    "\n",
    "import matplotlib.pyplot as plt\n",
    "\n",
    "torch.manual_seed(42)"
   ]
  },
  {
   "cell_type": "code",
   "execution_count": 15,
   "metadata": {},
   "outputs": [],
   "source": [
    "class Autoencoder(pl.LightningModule):\n",
    "    def __init__(self):\n",
    "        super().__init__()\n",
    "\n",
    "        self.val_outputs = []\n",
    "\n",
    "        self.encoder = nn.Sequential(\n",
    "            nn.Conv2d(1, 2, 2, 2, 1, bias=False),\n",
    "            nn.BatchNorm2d(2),\n",
    "            nn.LeakyReLU(True),\n",
    "            nn.Conv2d(2, 4, 3, 2, 1, bias=False),\n",
    "            nn.BatchNorm2d(4),\n",
    "            nn.LeakyReLU(True),\n",
    "            nn.Conv2d(4, 16, 3, 2, 1, bias=False),\n",
    "            nn.BatchNorm2d(16),\n",
    "            nn.LeakyReLU(True),\n",
    "            # nn.Conv2d(16, 4, 3, 1, 0, bias=False),\n",
    "            # nn.BatchNorm2d(4),\n",
    "            # nn.LeakyReLU(True),\n",
    "        )\n",
    "\n",
    "        self.decoder = nn.Sequential(\n",
    "            # nn.ConvTranspose2d(4, 16, 3, 1, 0, bias=False),\n",
    "            # nn.BatchNorm2d(16),\n",
    "            # nn.ReLU(True),\n",
    "            nn.ConvTranspose2d(16, 4, 3, 2, 1, bias=False),\n",
    "            nn.BatchNorm2d(4),\n",
    "            nn.ReLU(True),\n",
    "            nn.ConvTranspose2d(4, 2, 3, 2, 0, bias=False),\n",
    "            nn.BatchNorm2d(2),\n",
    "            nn.ReLU(True),\n",
    "            nn.ConvTranspose2d(2, 1, 2, 2, 1, bias=False),\n",
    "            nn.Tanh()\n",
    "        )\n",
    "\n",
    "    def forward(self, x):\n",
    "        x = self.encoder(x)\n",
    "        x = self.decoder(x)\n",
    "        \n",
    "        return x\n",
    "\n",
    "    def prepare_data(self):\n",
    "        transform = transforms.Compose(\n",
    "            [\n",
    "                transforms.Grayscale(),\n",
    "                transforms.ToTensor(),\n",
    "            ]\n",
    "        )\n",
    "\n",
    "        dataset = ImageFolder(root='/home/maxim/Documents/TestProject/archive/trainingSet', transform=transform)\n",
    "\n",
    "        end_train_idx = int(len(dataset) - len(dataset) / 5)\n",
    "        end_val_idx = int(len(dataset) - len(dataset) / 7)\n",
    "        end_test_idx = len(dataset)\n",
    "\n",
    "        self.train_dataset = Subset(dataset, range(0, end_train_idx))\n",
    "        self.val_dataset = Subset(dataset, range(end_train_idx + 1, end_val_idx))\n",
    "        self.test_dataset = Subset(dataset, range(end_val_idx + 1, end_test_idx))\n",
    "\n",
    "    def train_dataloader(self):\n",
    "        return DataLoader(\n",
    "            self.train_dataset, batch_size=32, shuffle=True, num_workers=20\n",
    "        )\n",
    "\n",
    "    def val_dataloader(self):\n",
    "        return DataLoader(\n",
    "            self.val_dataset, batch_size=32, num_workers=20\n",
    "        )\n",
    "\n",
    "    def test_dataloader(self):\n",
    "        return DataLoader(\n",
    "            self.test_dataset, batch_size=32, num_workers=20\n",
    "        )\n",
    "\n",
    "    def configure_optimizers(self):\n",
    "        return Adam(self.parameters(), lr=0.0001)\n",
    "\n",
    "    def training_step(self, batch, batch_idx):\n",
    "        x, _ = batch\n",
    "        output = self(x)\n",
    "        loss = F.mse_loss(output, x)\n",
    "\n",
    "        logs = {\"loss\": loss}\n",
    "        return {\"loss\": loss, \"log\": logs}\n",
    "\n",
    "    def validation_step(self, batch, batch_idx):\n",
    "        x, _ = batch\n",
    "        output = self(x)\n",
    "        loss = F.mse_loss(output, x)\n",
    "        logs = {\"val_loss\": loss}\n",
    "\n",
    "        self.log(\"val_loss\", loss)\n",
    "\n",
    "        self.val_outputs.append(output[0])\n",
    "\n",
    "        return {\"val_loss\": loss, \"log\": logs}\n",
    "\n",
    "    def test_step(self, batch, batch_idx):\n",
    "        x, _ = batch\n",
    "        output = self(x)\n",
    "        loss = F.mse_loss(output, x)\n",
    "\n",
    "        plt.imshow(output.cpu().numpy()[0, 0, :, :], \"gray\")\n",
    "\n",
    "        logs = {\"test_loss\": loss}\n",
    "        return {\"test_loss\": loss, \"log\": logs}\n",
    "    \n",
    "    def on_validation_epoch_end(self):\n",
    "        grid = vutils.make_grid(self.val_outputs)\n",
    "        self.logger.experiment.add_image(\"generated_images\", grid, self.current_epoch)\n",
    "\n",
    "        self.val_outputs.clear()"
   ]
  },
  {
   "cell_type": "code",
   "execution_count": 19,
   "metadata": {},
   "outputs": [
    {
     "name": "stderr",
     "output_type": "stream",
     "text": [
      "GPU available: True (cuda), used: True\n",
      "TPU available: False, using: 0 TPU cores\n",
      "IPU available: False, using: 0 IPUs\n",
      "HPU available: False, using: 0 HPUs\n",
      "LOCAL_RANK: 0 - CUDA_VISIBLE_DEVICES: [0]\n",
      "\n",
      "  | Name    | Type       | Params\n",
      "---------------------------------------\n",
      "0 | encoder | Sequential | 700   \n",
      "1 | decoder | Sequential | 668   \n",
      "---------------------------------------\n",
      "1.4 K     Trainable params\n",
      "0         Non-trainable params\n",
      "1.4 K     Total params\n",
      "0.005     Total estimated model params size (MB)\n"
     ]
    },
    {
     "name": "stdout",
     "output_type": "stream",
     "text": [
      "----------------------------------------------------------------\n",
      "        Layer (type)               Output Shape         Param #\n",
      "================================================================\n",
      "            Conv2d-1            [-1, 2, 15, 15]               8\n",
      "       BatchNorm2d-2            [-1, 2, 15, 15]               4\n",
      "         LeakyReLU-3            [-1, 2, 15, 15]               0\n",
      "            Conv2d-4              [-1, 4, 8, 8]              72\n",
      "       BatchNorm2d-5              [-1, 4, 8, 8]               8\n",
      "         LeakyReLU-6              [-1, 4, 8, 8]               0\n",
      "            Conv2d-7             [-1, 16, 4, 4]             576\n",
      "       BatchNorm2d-8             [-1, 16, 4, 4]              32\n",
      "         LeakyReLU-9             [-1, 16, 4, 4]               0\n",
      "  ConvTranspose2d-10              [-1, 4, 7, 7]             576\n",
      "      BatchNorm2d-11              [-1, 4, 7, 7]               8\n",
      "             ReLU-12              [-1, 4, 7, 7]               0\n",
      "  ConvTranspose2d-13            [-1, 2, 15, 15]              72\n",
      "      BatchNorm2d-14            [-1, 2, 15, 15]               4\n",
      "             ReLU-15            [-1, 2, 15, 15]               0\n",
      "  ConvTranspose2d-16            [-1, 1, 28, 28]               8\n",
      "             Tanh-17            [-1, 1, 28, 28]               0\n",
      "================================================================\n",
      "Total params: 1,368\n",
      "Trainable params: 1,368\n",
      "Non-trainable params: 0\n",
      "----------------------------------------------------------------\n",
      "Input size (MB): 0.00\n",
      "Forward/backward pass size (MB): 0.05\n",
      "Params size (MB): 0.01\n",
      "Estimated Total Size (MB): 0.06\n",
      "----------------------------------------------------------------\n"
     ]
    },
    {
     "data": {
      "application/vnd.jupyter.widget-view+json": {
       "model_id": "b230b5e9e3cd43e0b0aa97ff1ae6b5e5",
       "version_major": 2,
       "version_minor": 0
      },
      "text/plain": [
       "Sanity Checking: |          | 0/? [00:00<?, ?it/s]"
      ]
     },
     "metadata": {},
     "output_type": "display_data"
    },
    {
     "data": {
      "application/vnd.jupyter.widget-view+json": {
       "model_id": "a1b1b69232a24cc3a70803828add0896",
       "version_major": 2,
       "version_minor": 0
      },
      "text/plain": [
       "Training: |          | 0/? [00:00<?, ?it/s]"
      ]
     },
     "metadata": {},
     "output_type": "display_data"
    },
    {
     "data": {
      "application/vnd.jupyter.widget-view+json": {
       "model_id": "c25cf46085b741c1a967a7fb250c6216",
       "version_major": 2,
       "version_minor": 0
      },
      "text/plain": [
       "Validation: |          | 0/? [00:00<?, ?it/s]"
      ]
     },
     "metadata": {},
     "output_type": "display_data"
    },
    {
     "data": {
      "application/vnd.jupyter.widget-view+json": {
       "model_id": "e424207ba99e4dc0a293d15ce97fa329",
       "version_major": 2,
       "version_minor": 0
      },
      "text/plain": [
       "Validation: |          | 0/? [00:00<?, ?it/s]"
      ]
     },
     "metadata": {},
     "output_type": "display_data"
    },
    {
     "data": {
      "application/vnd.jupyter.widget-view+json": {
       "model_id": "e570ad46b4ff41f1aba174501b8c693f",
       "version_major": 2,
       "version_minor": 0
      },
      "text/plain": [
       "Validation: |          | 0/? [00:00<?, ?it/s]"
      ]
     },
     "metadata": {},
     "output_type": "display_data"
    },
    {
     "data": {
      "application/vnd.jupyter.widget-view+json": {
       "model_id": "95f7420928b54c728380f8e9fd12532e",
       "version_major": 2,
       "version_minor": 0
      },
      "text/plain": [
       "Validation: |          | 0/? [00:00<?, ?it/s]"
      ]
     },
     "metadata": {},
     "output_type": "display_data"
    },
    {
     "name": "stderr",
     "output_type": "stream",
     "text": [
      "/home/maxim/anaconda3/lib/python3.11/site-packages/pytorch_lightning/trainer/call.py:54: Detected KeyboardInterrupt, attempting graceful shutdown...\n",
      "LOCAL_RANK: 0 - CUDA_VISIBLE_DEVICES: [0]\n"
     ]
    },
    {
     "data": {
      "application/vnd.jupyter.widget-view+json": {
       "model_id": "bf1bdcae3c394b0fbb85e367e8753df5",
       "version_major": 2,
       "version_minor": 0
      },
      "text/plain": [
       "Testing: |          | 0/? [00:00<?, ?it/s]"
      ]
     },
     "metadata": {},
     "output_type": "display_data"
    },
    {
     "data": {
      "text/plain": [
       "[{}]"
      ]
     },
     "execution_count": 19,
     "metadata": {},
     "output_type": "execute_result"
    },
    {
     "data": {
      "image/png": "[encoded data removed]",
      "text/plain": [
       "<Figure size 640x480 with 1 Axes>"
      ]
     },
     "metadata": {},
     "output_type": "display_data"
    }
   ],
   "source": [
    "from pytorch_lightning.callbacks import EarlyStopping\n",
    "from torchsummary import summary\n",
    "\n",
    "model = Autoencoder()\n",
    "\n",
    "summary(model.cuda(), (1, 28, 28), device=\"cuda\")\n",
    "        \n",
    "trainer = Trainer(max_epochs=100, callbacks=[EarlyStopping(monitor=\"val_loss\", mode=\"min\")])\n",
    "trainer.fit(model)\n",
    "trainer.test(model)\n"
   ]
  },
  {
   "cell_type": "code",
   "execution_count": 17,
   "metadata": {},
   "outputs": [],
   "source": [
    "transform = transforms.Compose(\n",
    "    [\n",
    "        transforms.Grayscale(),\n",
    "        transforms.ToTensor(),\n",
    "    ]\n",
    ")\n",
    "\n",
    "dataset = ImageFolder(root='/home/maxim/Documents/TestProject/archive/testSample', transform=transform)\n",
    "\n",
    "\n",
    "test_dataset = Subset(dataset, range(0, dataset.__len__()))\n",
    "\n",
    "data = DataLoader(\n",
    "            test_dataset, batch_size=32, shuffle=True, num_workers=20\n",
    "        )"
   ]
  },
  {
   "cell_type": "code",
   "execution_count": 18,
   "metadata": {},
   "outputs": [
    {
     "name": "stdout",
     "output_type": "stream",
     "text": [
      "The tensorboard extension is already loaded. To reload it, use:\n",
      "  %reload_ext tensorboard\n"
     ]
    },
    {
     "data": {
      "text/plain": [
       "Reusing TensorBoard on port 6006 (pid 65764), started 0:12:45 ago. (Use '!kill 65764' to kill it.)"
      ]
     },
     "metadata": {},
     "output_type": "display_data"
    },
    {
     "data": {
      "text/html": [
       "\n",
       "      <iframe id=\"tensorboard-frame-d24d5f294b9c08ed\" width=\"100%\" height=\"800\" frameborder=\"0\">\n",
       "      </iframe>\n",
       "      <script>\n",
       "        (function() {\n",
       "          const frame = document.getElementById(\"tensorboard-frame-d24d5f294b9c08ed\");\n",
       "          const url = new URL(\"http://localhost\");\n",
       "          const port = 6006;\n",
       "          if (port) {\n",
       "            url.port = port;\n",
       "          }\n",
       "          frame.src = url;\n",
       "        })();\n",
       "      </script>\n",
       "    "
      ],
      "text/plain": [
       "<IPython.core.display.HTML object>"
      ]
     },
     "metadata": {},
     "output_type": "display_data"
    }
   ],
   "source": [
    "%load_ext tensorboard\n",
    "%tensorboard --logdir lightning_logs/"
   ]
  }
 ],
 "metadata": {
  "kernelspec": {
   "display_name": "base",
   "language": "python",
   "name": "python3"
  },
  "language_info": {
   "codemirror_mode": {
    "name": "ipython",
    "version": 3
   },
   "file_extension": ".py",
   "mimetype": "text/x-python",
   "name": "python",
   "nbconvert_exporter": "python",
   "pygments_lexer": "ipython3",
   "version": "3.11.5"
  }
 },
 "nbformat": 4,
 "nbformat_minor": 2
}
